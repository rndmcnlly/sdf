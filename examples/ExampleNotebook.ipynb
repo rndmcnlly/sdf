{
 "cells": [
  {
   "cell_type": "code",
   "execution_count": null,
   "id": "racial-emperor",
   "metadata": {},
   "outputs": [],
   "source": [
    "%pylab inline"
   ]
  },
  {
   "cell_type": "code",
   "execution_count": null,
   "id": "opponent-treasury",
   "metadata": {},
   "outputs": [],
   "source": [
    "from sdf import *\n",
    "\n",
    "f = sphere(1) & box(1.5)\n",
    "\n",
    "c = cylinder(0.5)\n",
    "f -= c.orient(X) | c.orient(Y) | c.orient(Z)\n",
    "\n",
    "SAMPLES = 2**16\n",
    "points = np.array(f.generate(samples=SAMPLES))\n",
    "scatter(points[:,0], points[:,1],c=points[:,2],alpha=0.1);\n",
    "title('ugh, scatterplot as 3d viewer');\n",
    "gca().set_aspect('equal');"
   ]
  }
 ],
 "metadata": {
  "kernelspec": {
   "display_name": "Python 3",
   "language": "python",
   "name": "python3"
  },
  "language_info": {
   "codemirror_mode": {
    "name": "ipython",
    "version": 3
   },
   "file_extension": ".py",
   "mimetype": "text/x-python",
   "name": "python",
   "nbconvert_exporter": "python",
   "pygments_lexer": "ipython3",
   "version": "3.7.9"
  }
 },
 "nbformat": 4,
 "nbformat_minor": 5
}
